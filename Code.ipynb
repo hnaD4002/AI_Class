{
 "cells": [
  {
   "cell_type": "markdown",
   "metadata": {},
   "source": [
    "## Bài toán Neural"
   ]
  },
  {
   "cell_type": "markdown",
   "metadata": {},
   "source": [
    "![My Image](./Image/ID3_Neural.jpg)"
   ]
  },
  {
   "cell_type": "code",
   "execution_count": null,
   "metadata": {},
   "outputs": [],
   "source": [
    "import numpy as np\n",
    "\n",
    "# Cài đặt dữ liệu \n",
    "data = {\n",
    "    1: np.array([8, 9, 8]),\n",
    "    2: np.array([4, 4, 6]),\n",
    "    3: np.array([9, 8, 8]),\n",
    "    4: np.array([5, 6, 4]),\n",
    "}\n",
    "n = len(data)\n",
    "check = [False] * n # dùng để check xem với bộ trọng số này thì data đã đưa ra kết quả đúng hay chưa\n",
    "res = {1: 1, 2: -1, 3: 1, 4: -1}\n",
    "test = np.array([8, 7, 8])\n",
    "\n",
    "# Khởi tạo bộ trọng số ban đầu (Tip: Chọn càng gần result thì vòng lặp chạy càng ít)\n",
    "w, b = np.array([60, 3, -40]), -150\n",
    "\n",
    "# Hàm hardLim\n",
    "def hardLim(w, x, b):\n",
    "    if w @ x.T + b >= 0:\n",
    "        return 1\n",
    "    else:\n",
    "        return -1\n",
    "\n",
    "# hàm update \n",
    "def update(w, b, hl, i):\n",
    "    w = w + (res[i] - hl) * data[i]\n",
    "    b = b + (res[i] - hl)\n",
    "    return w, b\n",
    "\n",
    "def ID3_Neural(test):\n",
    "    global w\n",
    "    global b\n",
    "    k = 0\n",
    "    while not (all(check)):\n",
    "        k = k + 1\n",
    "        print(\"K =\", k)\n",
    "        for i in range(n):\n",
    "            hl = hardLim(w, data[i + 1], b)\n",
    "            if hl != res[i + 1]:\n",
    "                w, b = update(w, b, hl, i + 1)\n",
    "                check[i] = False\n",
    "            else:\n",
    "                check[i] = True\n",
    "        print(w, b, sep=\"\\n\")\n",
    "    print(\"data:\", test, \"=> thuoc lop {}\".format(hardLim(w, test, b)))\n",
    "\n",
    "\n",
    "ID3_Neural(test)\n"
   ]
  },
  {
   "cell_type": "markdown",
   "metadata": {},
   "source": [
    "### Algorithms Breadth First Search"
   ]
  },
  {
   "cell_type": "markdown",
   "metadata": {},
   "source": [
    "![Project Image](./Image/TreeSearch.png)\n",
    "\n",
    "Cây tìm kiếm cần cài đặt"
   ]
  },
  {
   "cell_type": "code",
   "execution_count": 11,
   "metadata": {},
   "outputs": [
    {
     "name": "stdout",
     "output_type": "stream",
     "text": [
      "Duong di tu {start} -> {goal} la: ['A', 'B', 'M', 'Y', 'R']\n"
     ]
    }
   ],
   "source": [
    "# Khởi tạo cây tìm kiếm bằng data_type: dictionary\n",
    "graph = {\"A\":[\"B\", \"C\", \"D\"],\n",
    "\t\t \"B\":[\"M\", \"N\"],\n",
    "\t\t \"C\":[\"L\"],\n",
    "\t\t \"D\":[\"O\", \"P\"],\n",
    "\t\t \"M\":[\"X\", \"Y\"],\n",
    "\t\t \"N\":[\"U\", \"V\"],\n",
    "\t\t \"L\":[],\n",
    "\t\t \"O\":[\"I\", \"J\"],\n",
    "\t\t \"P\":[],\n",
    "\t\t \"X\":[],\n",
    "\t\t \"Y\":[\"R\", \"S\"],\n",
    "\t\t \"U\":[],\n",
    "\t\t \"V\":[\"G\", \"H\"],\n",
    "\t\t \"I\":[],\n",
    "\t\t \"J\":[],\n",
    "\t\t \"R\":[],\n",
    "\t\t \"S\":[],\n",
    "\t\t \"G\":[],\n",
    "\t\t \"H\":[]}\n",
    "\n",
    "def bfs(graph, start, goal):\n",
    "\tif start == goal:\n",
    "\t\treturn [start]\n",
    "\t\n",
    "\tresult = [(start, [start])] # lưu 1 bộ gồm đỉnh hiện tại và đường đi từ start đến đỉnh hiện tại \n",
    "\n",
    "\twhile result: # vòng lặp cho đến khi result này rỗng thì thôi\n",
    "\t\t(var, path) = result[0] # lấy phần tử đầu tiên của reuslt (tương tự giống như data_structure: queue)\n",
    "\t\tresult.pop(0) # Xoá phần tử đầu tiên \n",
    "\t\tif goal in graph[var]:\n",
    "\t\t\treturn path + [goal]\n",
    "\t\tfor i in graph[var]:\n",
    "\t\t\tif not(i in path):\n",
    "\t\t\t\tresult.append((i, path + [i]))\n",
    "\t\n",
    "\treturn \"Không tìm thấy đích\"\n",
    "\n",
    "\n",
    "start = \"A\"\n",
    "goal = \"R\"\n",
    "print(\"Đường đi từ {start} -> {goal} bằng thuật toán Bredth-First-Search là:\", bfs(graph, start, goal))\n"
   ]
  },
  {
   "cell_type": "markdown",
   "metadata": {},
   "source": [
    "### Depth Frist Search"
   ]
  },
  {
   "cell_type": "code",
   "execution_count": null,
   "metadata": {},
   "outputs": [],
   "source": [
    "graph = {\"A\":[\"B\", \"C\", \"D\"],\n",
    "\t\t \"B\":[\"M\", \"N\"],\n",
    "\t\t \"C\":[\"L\"],\n",
    "\t\t \"D\":[\"O\", \"P\"],\n",
    "\t\t \"M\":[\"X\", \"Y\"],\n",
    "\t\t \"N\":[\"U\", \"V\"],\n",
    "\t\t \"L\":[],\n",
    "\t\t \"O\":[\"I\", \"J\"],\n",
    "\t\t \"P\":[],\n",
    "\t\t \"X\":[],\n",
    "\t\t \"Y\":[\"R\", \"S\"],\n",
    "\t\t \"U\":[],\n",
    "\t\t \"V\":[\"G\", \"H\"],\n",
    "\t\t \"I\":[],\n",
    "\t\t \"J\":[],\n",
    "\t\t \"R\":[],\n",
    "\t\t \"S\":[],\n",
    "\t\t \"G\":[],\n",
    "\t\t \"H\":[]}\n",
    "\n",
    "\n",
    "def dfs(graph, start, goal):\n",
    "\tif start == goal:\n",
    "\t\treturn [start]\n",
    "\n",
    "\tresult = [(start, [start])] # lưu đỉnh hiện tại và đường đi của nó\n",
    "\n",
    "\twhile result:\n",
    "\t\t(vertex, path) = result[-1] # lấy bộ ở cuối cùng\n",
    "\t\tresult.pop(-1) # xoá bộ cuối cùng\n",
    "\t\tif goal in graph[vertex]:\n",
    "\t\t\treturn path + [goal]\n",
    "\t\t# Duyệt ngược lại để phần tử cuối cùng luôn là node bên trái\n",
    "\t\tfor i in graph[vertex][::-1]:\n",
    "\t\t\tif not(i in path): # kiểm tra xem đỉnh đó đã có trong đường dẫn hiện tại chưa??\n",
    "\t\t\t\tresult.append(i, path + [i])\n",
    "\treturn \"Không tìm thấy đích\"\n",
    "\n",
    "\n",
    "start = \"A\"\n",
    "goal = \"G\"\n",
    "print(\"Đường đi từ {start} -> {goal} bằng thuật toán Depth-First-Search là:\", dfs(graph, start, goal))\n"
   ]
  }
 ],
 "metadata": {
  "kernelspec": {
   "display_name": "Python 3",
   "language": "python",
   "name": "python3"
  },
  "language_info": {
   "codemirror_mode": {
    "name": "ipython",
    "version": 3
   },
   "file_extension": ".py",
   "mimetype": "text/x-python",
   "name": "python",
   "nbconvert_exporter": "python",
   "pygments_lexer": "ipython3",
   "version": "3.12.0"
  }
 },
 "nbformat": 4,
 "nbformat_minor": 2
}
